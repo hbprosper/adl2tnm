{
 "cells": [
  {
   "cell_type": "markdown",
   "metadata": {},
   "source": [
    "### Testing adl2tnm"
   ]
  },
  {
   "cell_type": "code",
   "execution_count": 1,
   "metadata": {},
   "outputs": [],
   "source": [
    "import os, sys, re\n",
    "import numpy as np\n",
    "import pandas as pd\n",
    "import uproot"
   ]
  },
  {
   "cell_type": "markdown",
   "metadata": {},
   "source": [
    "### Simple utilities\n",
    "There is surely a function in Python to do the following:"
   ]
  },
  {
   "cell_type": "code",
   "execution_count": 2,
   "metadata": {},
   "outputs": [],
   "source": [
    "def bytes_to_string(alist):\n",
    "    return [''.join([chr(x) for x in a]) for a in alist]"
   ]
  },
  {
   "cell_type": "markdown",
   "metadata": {},
   "source": [
    "### Open output file from razor ADL analysis"
   ]
  },
  {
   "cell_type": "code",
   "execution_count": 5,
   "metadata": {},
   "outputs": [
    {
     "data": {
      "text/plain": [
       "['cutflow_preselection;1',\n",
       " 'cutflow_WcategorySR;1',\n",
       " 'cutflow_WcategoryCRQ;1',\n",
       " 'cutflow_WcategoryCRT;1',\n",
       " 'cutflow_WcategoryCRW;1',\n",
       " 'cutflow_WcategoryCRL;1',\n",
       " 'cutflow_WcategoryCRZ;1',\n",
       " 'cutflow_WcategoryCRG;1',\n",
       " 'cutflow_TopcategorySR;1',\n",
       " 'cutflow_TopcategoryCRQ;1',\n",
       " 'cutflow_TopcategoryCRT;1',\n",
       " 'cutflow_TopcategoryCRW;1',\n",
       " 'cutflow_TopcategoryCRL;1',\n",
       " 'cutflow_TopcategoryCRZ;1',\n",
       " 'cutflow_TopcategoryCRG;1',\n",
       " 'counts;1',\n",
       " 'regions;1']"
      ]
     },
     "execution_count": 5,
     "metadata": {},
     "output_type": "execute_result"
    }
   ],
   "source": [
    "results = uproot.open('razor/razor_histograms.root')\n",
    "keys    = bytes_to_string(results.keys())\n",
    "keys"
   ]
  },
  {
   "cell_type": "markdown",
   "metadata": {},
   "source": [
    "### Get regions tree"
   ]
  },
  {
   "cell_type": "code",
   "execution_count": 6,
   "metadata": {},
   "outputs": [
    {
     "data": {
      "text/plain": [
       "['preselection',\n",
       " 'WcategorySR',\n",
       " 'WcategoryCRQ',\n",
       " 'WcategoryCRT',\n",
       " 'WcategoryCRW',\n",
       " 'WcategoryCRL',\n",
       " 'WcategoryCRZ',\n",
       " 'WcategoryCRG',\n",
       " 'TopcategorySR',\n",
       " 'TopcategoryCRQ',\n",
       " 'TopcategoryCRT',\n",
       " 'TopcategoryCRW',\n",
       " 'TopcategoryCRL',\n",
       " 'TopcategoryCRZ',\n",
       " 'TopcategoryCRG']"
      ]
     },
     "execution_count": 6,
     "metadata": {},
     "output_type": "execute_result"
    }
   ],
   "source": [
    "regions = results['regions']\n",
    "names = bytes_to_string(regions.keys())\n",
    "names"
   ]
  },
  {
   "cell_type": "markdown",
   "metadata": {},
   "source": [
    "### Count how often a region is selected"
   ]
  },
  {
   "cell_type": "code",
   "execution_count": 7,
   "metadata": {},
   "outputs": [
    {
     "name": "stdout",
     "output_type": "stream",
     "text": [
      "preselection                   7379\n",
      "WcategorySR                     344\n",
      "WcategoryCRQ                      1\n",
      "WcategoryCRT                    109\n",
      "WcategoryCRW                      0\n",
      "WcategoryCRL                      0\n",
      "WcategoryCRZ                     13\n",
      "WcategoryCRG                    192\n",
      "TopcategorySR                   173\n",
      "TopcategoryCRQ                    1\n",
      "TopcategoryCRT                   59\n",
      "TopcategoryCRW                    0\n",
      "TopcategoryCRL                    0\n",
      "TopcategoryCRZ                   10\n",
      "TopcategoryCRG                  259\n"
     ]
    }
   ],
   "source": [
    "results = ['%-24s %10.0f' % (name, np.sum(regions[name].array())) for name in names]\n",
    "for x in results: print(x)"
   ]
  },
  {
   "cell_type": "code",
   "execution_count": null,
   "metadata": {},
   "outputs": [],
   "source": []
  }
 ],
 "metadata": {
  "kernelspec": {
   "display_name": "Python 3",
   "language": "python",
   "name": "python3"
  },
  "language_info": {
   "codemirror_mode": {
    "name": "ipython",
    "version": 3
   },
   "file_extension": ".py",
   "mimetype": "text/x-python",
   "name": "python",
   "nbconvert_exporter": "python",
   "pygments_lexer": "ipython3",
   "version": "3.7.4"
  }
 },
 "nbformat": 4,
 "nbformat_minor": 2
}
